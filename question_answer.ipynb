{
 "cells": [
  {
   "cell_type": "code",
   "execution_count": 22,
   "metadata": {
    "scrolled": true
   },
   "outputs": [],
   "source": [
    "import tensorflow as tf\n",
    "import os\n",
    "from transformers import BertTokenizer, TFBertForQuestionAnswering \n",
    "from transformers import BertModel\n",
    "import warnings\n",
    "warnings.filterwarnings(\"ignore\")"
   ]
  },
  {
   "cell_type": "code",
   "execution_count": 23,
   "metadata": {},
   "outputs": [
    {
     "name": "stderr",
     "output_type": "stream",
     "text": [
      "All PyTorch model weights were used when initializing TFBertForQuestionAnswering.\n",
      "\n",
      "All the weights of TFBertForQuestionAnswering were initialized from the PyTorch model.\n",
      "If your task is similar to the task the model of the checkpoint was trained on, you can already use TFBertForQuestionAnswering for predictions without further training.\n"
     ]
    },
    {
     "name": "stdout",
     "output_type": "stream",
     "text": [
      "<transformers.models.bert.modeling_tf_bert.TFBertForQuestionAnswering object at 0x000002DD5AE2C500>\n"
     ]
    }
   ],
   "source": [
    "modelName = 'bert-large-uncased-whole-word-masking-finetuned-squad'\n",
    "tokenizer = BertTokenizer.from_pretrained(modelName)\n",
    "model = TFBertForQuestionAnswering.from_pretrained(modelName)\n",
    "print(model)"
   ]
  },
  {
   "cell_type": "code",
   "execution_count": 25,
   "metadata": {},
   "outputs": [],
   "source": [
    "def process_data(text, question):\n",
    "    input_text =  question + \" [SEP] \" + text \n",
    "    input_ids = tokenizer.encode(input_text)\n",
    "    input = tf.constant(input_ids)[None, :]  # Batch size 1\n",
    "    input_tokens = tokenizer.convert_ids_to_tokens(input_ids)\n",
    "    token_type_ids = [0 if i <= input_ids.index(102) else 1 for i in range(len(input_ids))]\n",
    "    answer=model(input, token_type_ids = tf.convert_to_tensor([token_type_ids]))\n",
    "    answer_start_index1 = int(tf.math.argmax(answer.start_logits, axis=-1)[0])\n",
    "    answer_end_index1 = int(tf.math.argmax(answer.end_logits, axis=-1)[0]) \n",
    "    end_answer=(\" \".join(input_tokens[answer_start_index1 :answer_end_index1 + 1]))\n",
    "    end_answer = \"\".join(end_answer.split()).replace('#','')\n",
    "    return end_answer, input_tokens,token_type_ids"
   ]
  },
  {
   "cell_type": "code",
   "execution_count": 35,
   "metadata": {},
   "outputs": [
    {
     "name": "stdout",
     "output_type": "stream",
     "text": [
      "--------------------------------------------------\n",
      "What is the ISIN of Deutsche Börse AG\n",
      "de0005810055\n",
      "--------------------------------------------------\n",
      "Who is the Chairman of the Board of Deutsche Börse AG\n",
      "theodorweimer\n"
     ]
    }
   ],
   "source": [
    "db_content=\"output.txt\"\n",
    "file = open(db_content, encoding=\"utf8\")\n",
    "data_value=file.read()\n",
    "text=data_value[:2000]\n",
    "question =r\"\"\"What is the ISIN of Deutsche Börse AG\"\"\"\n",
    "print(\"-\"*50)\n",
    "print(question)\n",
    "end_answer, input_tokens,token_type_ids=process_data(text,question)\n",
    "print(end_answer)\n",
    "#print(input_tokens)\n",
    "#print(token_type_ids)\n",
    "question =r\"\"\"Who is the Chairman of the Board of Deutsche Börse AG\"\"\"\n",
    "print(\"-\"*50)\n",
    "print(question)\n",
    "end_answer, input_tokens,token_type_ids=process_data(text,question)\n",
    "print(end_answer)\n",
    "#print(input_tokens)\n",
    "#print(token_type_ids)"
   ]
  },
  {
   "cell_type": "code",
   "execution_count": null,
   "metadata": {},
   "outputs": [],
   "source": []
  }
 ],
 "metadata": {
  "kernelspec": {
   "display_name": "Python 3 (ipykernel)",
   "language": "python",
   "name": "python3"
  },
  "language_info": {
   "codemirror_mode": {
    "name": "ipython",
    "version": 3
   },
   "file_extension": ".py",
   "mimetype": "text/x-python",
   "name": "python",
   "nbconvert_exporter": "python",
   "pygments_lexer": "ipython3",
   "version": "3.12.4"
  }
 },
 "nbformat": 4,
 "nbformat_minor": 4
}
